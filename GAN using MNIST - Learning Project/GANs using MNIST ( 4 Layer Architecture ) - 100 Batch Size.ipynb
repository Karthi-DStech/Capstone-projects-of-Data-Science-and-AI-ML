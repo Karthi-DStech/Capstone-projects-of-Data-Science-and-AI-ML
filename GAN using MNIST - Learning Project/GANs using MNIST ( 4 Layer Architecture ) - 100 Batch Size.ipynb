{
 "cells": [
  {
   "cell_type": "code",
   "execution_count": 1,
   "id": "8dd04893",
   "metadata": {},
   "outputs": [],
   "source": [
    "\n",
    "import torch\n",
    "import torch.nn as nn\n",
    "import torch.nn.functional as F\n",
    "import torch.optim as optim\n",
    "from torchvision import datasets, transforms\n",
    "from torch.autograd import Variable\n",
    "from torchvision.utils import save_image\n",
    "\n",
    "\n",
    "device = torch.device('cuda' if torch.cuda.is_available() else 'cpu')"
   ]
  },
  {
   "cell_type": "markdown",
   "id": "ed33057e",
   "metadata": {},
   "source": [
    "**Initialising the Dataset, Data Loader and the Batch Size**"
   ]
  },
  {
   "cell_type": "code",
   "execution_count": 2,
   "id": "2d3c9d85",
   "metadata": {},
   "outputs": [],
   "source": [
    "bs = 100\n",
    "\n",
    "# MNIST Dataset\n",
    "transform = transforms.Compose([\n",
    "    transforms.ToTensor(),\n",
    "    transforms.Normalize(mean=(0.5), std=(0.5))])\n",
    "\n",
    "train_dataset = datasets.MNIST(root='../MNIST GAN', train=True, transform=transform, download=True)\n",
    "test_dataset = datasets.MNIST(root='../MNIST GAN', train=False, transform=transform, download=False)\n",
    "\n",
    "# Data Loader (Input Pipeline)\n",
    "train_loader = torch.utils.data.DataLoader(dataset=train_dataset, batch_size=bs, shuffle=True)\n",
    "test_loader = torch.utils.data.DataLoader(dataset=test_dataset, batch_size=bs, shuffle=False)\n"
   ]
  },
  {
   "cell_type": "code",
   "execution_count": null,
   "id": "08df4590",
   "metadata": {},
   "outputs": [],
   "source": []
  },
  {
   "cell_type": "code",
   "execution_count": 3,
   "id": "9093171e",
   "metadata": {},
   "outputs": [
    {
     "data": {
      "text/plain": [
       "Dataset MNIST\n",
       "    Number of datapoints: 60000\n",
       "    Root location: ../MNIST GAN\n",
       "    Split: Train\n",
       "    StandardTransform\n",
       "Transform: Compose(\n",
       "               ToTensor()\n",
       "               Normalize(mean=0.5, std=0.5)\n",
       "           )"
      ]
     },
     "execution_count": 3,
     "metadata": {},
     "output_type": "execute_result"
    }
   ],
   "source": [
    "train_dataset"
   ]
  },
  {
   "cell_type": "code",
   "execution_count": 4,
   "id": "c3956d2f",
   "metadata": {},
   "outputs": [
    {
     "data": {
      "text/plain": [
       "Dataset MNIST\n",
       "    Number of datapoints: 10000\n",
       "    Root location: ../MNIST GAN\n",
       "    Split: Test\n",
       "    StandardTransform\n",
       "Transform: Compose(\n",
       "               ToTensor()\n",
       "               Normalize(mean=0.5, std=0.5)\n",
       "           )"
      ]
     },
     "execution_count": 4,
     "metadata": {},
     "output_type": "execute_result"
    }
   ],
   "source": [
    "test_dataset"
   ]
  },
  {
   "cell_type": "code",
   "execution_count": null,
   "id": "bbf9583b",
   "metadata": {},
   "outputs": [],
   "source": []
  },
  {
   "cell_type": "markdown",
   "id": "ba379373",
   "metadata": {},
   "source": [
    "**Generator Network**"
   ]
  },
  {
   "cell_type": "code",
   "execution_count": 5,
   "id": "0a0927aa",
   "metadata": {},
   "outputs": [],
   "source": [
    "class Generator(nn.Module):\n",
    "    def __init__(self, g_input_dim, g_output_dim):\n",
    "        super(Generator, self).__init__()       \n",
    "        self.fc1 = nn.Linear(g_input_dim, 256)\n",
    "        self.fc2 = nn.Linear(self.fc1.out_features, self.fc1.out_features*2)\n",
    "        self.fc3 = nn.Linear(self.fc2.out_features, self.fc2.out_features*2)\n",
    "        self.fc4 = nn.Linear(self.fc3.out_features, g_output_dim)\n",
    "    \n",
    "    # forward method\n",
    "    def forward(self, x): \n",
    "        x = F.leaky_relu(self.fc1(x), 0.2)\n",
    "        x = F.leaky_relu(self.fc2(x), 0.2)\n",
    "        x = F.leaky_relu(self.fc3(x), 0.2)\n",
    "        return torch.tanh(self.fc4(x))"
   ]
  },
  {
   "cell_type": "code",
   "execution_count": null,
   "id": "bad05435",
   "metadata": {},
   "outputs": [],
   "source": []
  },
  {
   "cell_type": "markdown",
   "id": "e9ae06b2",
   "metadata": {},
   "source": [
    "**Discriminator Network**"
   ]
  },
  {
   "cell_type": "code",
   "execution_count": 6,
   "id": "7afabc95",
   "metadata": {},
   "outputs": [],
   "source": [
    "class Discriminator(nn.Module):\n",
    "    def __init__(self, d_input_dim):\n",
    "        super(Discriminator, self).__init__()\n",
    "        self.fc1 = nn.Linear(d_input_dim, 1024)\n",
    "        self.fc2 = nn.Linear(self.fc1.out_features, self.fc1.out_features//2)\n",
    "        self.fc3 = nn.Linear(self.fc2.out_features, self.fc2.out_features//2)\n",
    "        self.fc4 = nn.Linear(self.fc3.out_features, 1)\n",
    "    \n",
    "    # forward method\n",
    "    def forward(self, x):\n",
    "        x = F.leaky_relu(self.fc1(x), 0.2)\n",
    "        x = F.dropout(x, 0.3)\n",
    "        x = F.leaky_relu(self.fc2(x), 0.2)\n",
    "        x = F.dropout(x, 0.3)\n",
    "        x = F.leaky_relu(self.fc3(x), 0.2)\n",
    "        x = F.dropout(x, 0.3)\n",
    "        return torch.sigmoid(self.fc4(x))"
   ]
  },
  {
   "cell_type": "code",
   "execution_count": null,
   "id": "568a6f9c",
   "metadata": {},
   "outputs": [],
   "source": []
  },
  {
   "cell_type": "code",
   "execution_count": 7,
   "id": "02256187",
   "metadata": {},
   "outputs": [
    {
     "name": "stderr",
     "output_type": "stream",
     "text": [
      "/Users/karthik/anaconda3/lib/python3.11/site-packages/torchvision/datasets/mnist.py:75: UserWarning: train_data has been renamed data\n",
      "  warnings.warn(\"train_data has been renamed data\")\n"
     ]
    }
   ],
   "source": [
    "# build network\n",
    "z_dim = 100\n",
    "mnist_dim = train_dataset.train_data.size(1) * train_dataset.train_data.size(2)\n",
    "\n",
    "G = Generator(g_input_dim = z_dim, g_output_dim = mnist_dim).to(device)\n",
    "D = Discriminator(mnist_dim).to(device)"
   ]
  },
  {
   "cell_type": "code",
   "execution_count": null,
   "id": "78bfb55e",
   "metadata": {},
   "outputs": [],
   "source": []
  },
  {
   "cell_type": "code",
   "execution_count": 8,
   "id": "fa247fd8",
   "metadata": {},
   "outputs": [
    {
     "data": {
      "text/plain": [
       "Generator(\n",
       "  (fc1): Linear(in_features=100, out_features=256, bias=True)\n",
       "  (fc2): Linear(in_features=256, out_features=512, bias=True)\n",
       "  (fc3): Linear(in_features=512, out_features=1024, bias=True)\n",
       "  (fc4): Linear(in_features=1024, out_features=784, bias=True)\n",
       ")"
      ]
     },
     "execution_count": 8,
     "metadata": {},
     "output_type": "execute_result"
    }
   ],
   "source": [
    "G"
   ]
  },
  {
   "cell_type": "code",
   "execution_count": null,
   "id": "908f1dd0",
   "metadata": {},
   "outputs": [],
   "source": []
  },
  {
   "cell_type": "code",
   "execution_count": 9,
   "id": "be2c9d4c",
   "metadata": {},
   "outputs": [
    {
     "data": {
      "text/plain": [
       "Discriminator(\n",
       "  (fc1): Linear(in_features=784, out_features=1024, bias=True)\n",
       "  (fc2): Linear(in_features=1024, out_features=512, bias=True)\n",
       "  (fc3): Linear(in_features=512, out_features=256, bias=True)\n",
       "  (fc4): Linear(in_features=256, out_features=1, bias=True)\n",
       ")"
      ]
     },
     "execution_count": 9,
     "metadata": {},
     "output_type": "execute_result"
    }
   ],
   "source": [
    "D"
   ]
  },
  {
   "cell_type": "code",
   "execution_count": null,
   "id": "e4fc0b11",
   "metadata": {},
   "outputs": [],
   "source": []
  },
  {
   "cell_type": "markdown",
   "id": "3b1d4c74",
   "metadata": {},
   "source": [
    "**Loss & Optimizer**"
   ]
  },
  {
   "cell_type": "code",
   "execution_count": 10,
   "id": "63267a82",
   "metadata": {},
   "outputs": [],
   "source": [
    "# loss\n",
    "criterion = nn.BCELoss() \n",
    "\n",
    "# optimizer\n",
    "lr = 0.0002 \n",
    "G_optimizer = optim.Adam(G.parameters(), lr = lr)\n",
    "D_optimizer = optim.Adam(D.parameters(), lr = lr)"
   ]
  },
  {
   "cell_type": "code",
   "execution_count": null,
   "id": "dc12c305",
   "metadata": {},
   "outputs": [],
   "source": []
  },
  {
   "cell_type": "code",
   "execution_count": null,
   "id": "cb3843f4",
   "metadata": {},
   "outputs": [],
   "source": []
  },
  {
   "cell_type": "markdown",
   "id": "773d232d",
   "metadata": {},
   "source": [
    "**Training the Discriminator**"
   ]
  },
  {
   "cell_type": "code",
   "execution_count": 11,
   "id": "9f691def",
   "metadata": {},
   "outputs": [],
   "source": [
    "def D_train(x):\n",
    "    #=======================Train the discriminator=======================#\n",
    "    D.zero_grad()\n",
    "\n",
    "    # train discriminator on real\n",
    "    x_real, y_real = x.view(-1, mnist_dim), torch.ones(bs, 1)\n",
    "    x_real, y_real = Variable(x_real.to(device)), Variable(y_real.to(device))\n",
    "\n",
    "    D_output = D(x_real)\n",
    "    D_real_loss = criterion(D_output, y_real)\n",
    "    D_real_score = D_output\n",
    "\n",
    "    # train discriminator on facke\n",
    "    z = Variable(torch.randn(bs, z_dim).to(device))\n",
    "    x_fake, y_fake = G(z), Variable(torch.zeros(bs, 1).to(device))\n",
    "\n",
    "    D_output = D(x_fake)\n",
    "    D_fake_loss = criterion(D_output, y_fake)\n",
    "    D_fake_score = D_output\n",
    "\n",
    "    # gradient backprop & optimize ONLY D's parameters\n",
    "    D_loss = D_real_loss + D_fake_loss\n",
    "    D_loss.backward()\n",
    "    D_optimizer.step()\n",
    "        \n",
    "    return  D_loss.data.item()"
   ]
  },
  {
   "cell_type": "code",
   "execution_count": null,
   "id": "6e1c38f6",
   "metadata": {},
   "outputs": [],
   "source": []
  },
  {
   "cell_type": "markdown",
   "id": "6a2951ec",
   "metadata": {},
   "source": [
    "**Training the Generator**"
   ]
  },
  {
   "cell_type": "code",
   "execution_count": 12,
   "id": "9c8d23e3",
   "metadata": {},
   "outputs": [],
   "source": [
    "def G_train(x):\n",
    "    #=======================Train the generator=======================#\n",
    "    G.zero_grad()\n",
    "\n",
    "    z = Variable(torch.randn(bs, z_dim).to(device))\n",
    "    y = Variable(torch.ones(bs, 1).to(device))\n",
    "\n",
    "    G_output = G(z)\n",
    "    D_output = D(G_output)\n",
    "    G_loss = criterion(D_output, y)\n",
    "\n",
    "    # gradient backprop & optimize ONLY G's parameters\n",
    "    G_loss.backward()\n",
    "    G_optimizer.step()\n",
    "        \n",
    "    return G_loss.data.item()"
   ]
  },
  {
   "cell_type": "code",
   "execution_count": null,
   "id": "2a20dcdf",
   "metadata": {},
   "outputs": [],
   "source": []
  },
  {
   "cell_type": "code",
   "execution_count": 13,
   "id": "ba85823d",
   "metadata": {},
   "outputs": [
    {
     "name": "stdout",
     "output_type": "stream",
     "text": [
      "[1/200]: loss_d: 0.609, loss_g: 4.973\n",
      "[2/200]: loss_d: 0.794, loss_g: 3.992\n",
      "[3/200]: loss_d: 0.946, loss_g: 2.034\n",
      "[4/200]: loss_d: 0.559, loss_g: 3.021\n",
      "[5/200]: loss_d: 0.338, loss_g: 3.924\n",
      "[6/200]: loss_d: 0.467, loss_g: 3.381\n",
      "[7/200]: loss_d: 0.460, loss_g: 3.140\n",
      "[8/200]: loss_d: 0.550, loss_g: 2.767\n",
      "[9/200]: loss_d: 0.527, loss_g: 2.746\n",
      "[10/200]: loss_d: 0.612, loss_g: 2.550\n",
      "[11/200]: loss_d: 0.692, loss_g: 2.246\n",
      "[12/200]: loss_d: 0.732, loss_g: 2.149\n",
      "[13/200]: loss_d: 0.779, loss_g: 2.013\n",
      "[14/200]: loss_d: 0.718, loss_g: 2.115\n",
      "[15/200]: loss_d: 0.792, loss_g: 2.002\n",
      "[16/200]: loss_d: 0.792, loss_g: 1.924\n",
      "[17/200]: loss_d: 0.799, loss_g: 1.913\n",
      "[18/200]: loss_d: 0.831, loss_g: 1.835\n",
      "[19/200]: loss_d: 0.812, loss_g: 1.885\n",
      "[20/200]: loss_d: 0.826, loss_g: 1.817\n",
      "[21/200]: loss_d: 0.848, loss_g: 1.812\n",
      "[22/200]: loss_d: 0.865, loss_g: 1.688\n",
      "[23/200]: loss_d: 0.884, loss_g: 1.645\n",
      "[24/200]: loss_d: 0.921, loss_g: 1.599\n",
      "[25/200]: loss_d: 0.927, loss_g: 1.568\n",
      "[26/200]: loss_d: 0.934, loss_g: 1.561\n",
      "[27/200]: loss_d: 0.928, loss_g: 1.573\n",
      "[28/200]: loss_d: 0.933, loss_g: 1.550\n",
      "[29/200]: loss_d: 0.984, loss_g: 1.471\n",
      "[30/200]: loss_d: 0.978, loss_g: 1.442\n",
      "[31/200]: loss_d: 1.004, loss_g: 1.400\n",
      "[32/200]: loss_d: 1.051, loss_g: 1.309\n",
      "[33/200]: loss_d: 1.030, loss_g: 1.355\n",
      "[34/200]: loss_d: 1.032, loss_g: 1.358\n",
      "[35/200]: loss_d: 1.048, loss_g: 1.304\n",
      "[36/200]: loss_d: 1.054, loss_g: 1.283\n",
      "[37/200]: loss_d: 1.072, loss_g: 1.267\n",
      "[38/200]: loss_d: 1.083, loss_g: 1.231\n",
      "[39/200]: loss_d: 1.089, loss_g: 1.227\n",
      "[40/200]: loss_d: 1.090, loss_g: 1.231\n",
      "[41/200]: loss_d: 1.104, loss_g: 1.201\n",
      "[42/200]: loss_d: 1.107, loss_g: 1.199\n",
      "[43/200]: loss_d: 1.113, loss_g: 1.171\n",
      "[44/200]: loss_d: 1.127, loss_g: 1.153\n",
      "[45/200]: loss_d: 1.139, loss_g: 1.128\n",
      "[46/200]: loss_d: 1.134, loss_g: 1.145\n",
      "[47/200]: loss_d: 1.133, loss_g: 1.145\n",
      "[48/200]: loss_d: 1.147, loss_g: 1.131\n",
      "[49/200]: loss_d: 1.149, loss_g: 1.110\n",
      "[50/200]: loss_d: 1.129, loss_g: 1.160\n",
      "[51/200]: loss_d: 1.153, loss_g: 1.112\n",
      "[52/200]: loss_d: 1.154, loss_g: 1.101\n",
      "[53/200]: loss_d: 1.158, loss_g: 1.086\n",
      "[54/200]: loss_d: 1.184, loss_g: 1.049\n",
      "[55/200]: loss_d: 1.169, loss_g: 1.076\n",
      "[56/200]: loss_d: 1.172, loss_g: 1.089\n",
      "[57/200]: loss_d: 1.179, loss_g: 1.055\n",
      "[58/200]: loss_d: 1.183, loss_g: 1.052\n",
      "[59/200]: loss_d: 1.189, loss_g: 1.044\n",
      "[60/200]: loss_d: 1.188, loss_g: 1.040\n",
      "[61/200]: loss_d: 1.182, loss_g: 1.056\n",
      "[62/200]: loss_d: 1.192, loss_g: 1.032\n",
      "[63/200]: loss_d: 1.193, loss_g: 1.026\n",
      "[64/200]: loss_d: 1.202, loss_g: 1.002\n",
      "[65/200]: loss_d: 1.201, loss_g: 1.018\n",
      "[66/200]: loss_d: 1.190, loss_g: 1.042\n",
      "[67/200]: loss_d: 1.199, loss_g: 1.011\n",
      "[68/200]: loss_d: 1.205, loss_g: 1.019\n",
      "[69/200]: loss_d: 1.218, loss_g: 0.990\n",
      "[70/200]: loss_d: 1.209, loss_g: 1.004\n",
      "[71/200]: loss_d: 1.223, loss_g: 0.986\n",
      "[72/200]: loss_d: 1.217, loss_g: 0.978\n",
      "[73/200]: loss_d: 1.226, loss_g: 0.981\n",
      "[74/200]: loss_d: 1.228, loss_g: 0.981\n",
      "[75/200]: loss_d: 1.217, loss_g: 0.979\n",
      "[76/200]: loss_d: 1.219, loss_g: 0.985\n",
      "[77/200]: loss_d: 1.234, loss_g: 0.963\n",
      "[78/200]: loss_d: 1.240, loss_g: 0.948\n",
      "[79/200]: loss_d: 1.242, loss_g: 0.957\n",
      "[80/200]: loss_d: 1.238, loss_g: 0.967\n",
      "[81/200]: loss_d: 1.228, loss_g: 0.987\n",
      "[82/200]: loss_d: 1.235, loss_g: 0.954\n",
      "[83/200]: loss_d: 1.237, loss_g: 0.957\n",
      "[84/200]: loss_d: 1.244, loss_g: 0.955\n",
      "[85/200]: loss_d: 1.232, loss_g: 0.961\n",
      "[86/200]: loss_d: 1.241, loss_g: 0.945\n",
      "[87/200]: loss_d: 1.246, loss_g: 0.951\n",
      "[88/200]: loss_d: 1.244, loss_g: 0.950\n",
      "[89/200]: loss_d: 1.237, loss_g: 0.959\n",
      "[90/200]: loss_d: 1.244, loss_g: 0.951\n",
      "[91/200]: loss_d: 1.243, loss_g: 0.953\n",
      "[92/200]: loss_d: 1.241, loss_g: 0.953\n",
      "[93/200]: loss_d: 1.253, loss_g: 0.925\n",
      "[94/200]: loss_d: 1.251, loss_g: 0.943\n",
      "[95/200]: loss_d: 1.248, loss_g: 0.945\n",
      "[96/200]: loss_d: 1.249, loss_g: 0.941\n",
      "[97/200]: loss_d: 1.260, loss_g: 0.926\n",
      "[98/200]: loss_d: 1.252, loss_g: 0.941\n",
      "[99/200]: loss_d: 1.253, loss_g: 0.935\n",
      "[100/200]: loss_d: 1.259, loss_g: 0.937\n",
      "[101/200]: loss_d: 1.258, loss_g: 0.925\n",
      "[102/200]: loss_d: 1.250, loss_g: 0.937\n",
      "[103/200]: loss_d: 1.249, loss_g: 0.958\n",
      "[104/200]: loss_d: 1.246, loss_g: 0.943\n",
      "[105/200]: loss_d: 1.260, loss_g: 0.919\n",
      "[106/200]: loss_d: 1.258, loss_g: 0.923\n",
      "[107/200]: loss_d: 1.257, loss_g: 0.930\n",
      "[108/200]: loss_d: 1.258, loss_g: 0.932\n",
      "[109/200]: loss_d: 1.258, loss_g: 0.918\n",
      "[110/200]: loss_d: 1.259, loss_g: 0.924\n",
      "[111/200]: loss_d: 1.262, loss_g: 0.924\n",
      "[112/200]: loss_d: 1.257, loss_g: 0.927\n",
      "[113/200]: loss_d: 1.263, loss_g: 0.925\n",
      "[114/200]: loss_d: 1.253, loss_g: 0.930\n",
      "[115/200]: loss_d: 1.260, loss_g: 0.918\n",
      "[116/200]: loss_d: 1.257, loss_g: 0.928\n",
      "[117/200]: loss_d: 1.260, loss_g: 0.922\n",
      "[118/200]: loss_d: 1.264, loss_g: 0.911\n",
      "[119/200]: loss_d: 1.265, loss_g: 0.918\n",
      "[120/200]: loss_d: 1.256, loss_g: 0.935\n",
      "[121/200]: loss_d: 1.265, loss_g: 0.908\n",
      "[122/200]: loss_d: 1.269, loss_g: 0.920\n",
      "[123/200]: loss_d: 1.261, loss_g: 0.919\n",
      "[124/200]: loss_d: 1.267, loss_g: 0.905\n",
      "[125/200]: loss_d: 1.265, loss_g: 0.920\n",
      "[126/200]: loss_d: 1.265, loss_g: 0.924\n",
      "[127/200]: loss_d: 1.258, loss_g: 0.917\n",
      "[128/200]: loss_d: 1.263, loss_g: 0.921\n",
      "[129/200]: loss_d: 1.263, loss_g: 0.922\n",
      "[130/200]: loss_d: 1.259, loss_g: 0.931\n",
      "[131/200]: loss_d: 1.266, loss_g: 0.910\n",
      "[132/200]: loss_d: 1.263, loss_g: 0.921\n",
      "[133/200]: loss_d: 1.271, loss_g: 0.906\n",
      "[134/200]: loss_d: 1.268, loss_g: 0.914\n",
      "[135/200]: loss_d: 1.271, loss_g: 0.905\n",
      "[136/200]: loss_d: 1.274, loss_g: 0.907\n",
      "[137/200]: loss_d: 1.271, loss_g: 0.903\n",
      "[138/200]: loss_d: 1.276, loss_g: 0.890\n",
      "[139/200]: loss_d: 1.271, loss_g: 0.908\n",
      "[140/200]: loss_d: 1.271, loss_g: 0.901\n",
      "[141/200]: loss_d: 1.271, loss_g: 0.904\n",
      "[142/200]: loss_d: 1.267, loss_g: 0.901\n",
      "[143/200]: loss_d: 1.277, loss_g: 0.897\n",
      "[144/200]: loss_d: 1.268, loss_g: 0.904\n",
      "[145/200]: loss_d: 1.270, loss_g: 0.906\n",
      "[146/200]: loss_d: 1.271, loss_g: 0.907\n",
      "[147/200]: loss_d: 1.278, loss_g: 0.891\n",
      "[148/200]: loss_d: 1.278, loss_g: 0.888\n",
      "[149/200]: loss_d: 1.275, loss_g: 0.913\n",
      "[150/200]: loss_d: 1.281, loss_g: 0.899\n",
      "[151/200]: loss_d: 1.271, loss_g: 0.903\n",
      "[152/200]: loss_d: 1.275, loss_g: 0.898\n",
      "[153/200]: loss_d: 1.279, loss_g: 0.900\n",
      "[154/200]: loss_d: 1.282, loss_g: 0.881\n",
      "[155/200]: loss_d: 1.285, loss_g: 0.879\n",
      "[156/200]: loss_d: 1.277, loss_g: 0.900\n",
      "[157/200]: loss_d: 1.280, loss_g: 0.899\n",
      "[158/200]: loss_d: 1.276, loss_g: 0.888\n",
      "[159/200]: loss_d: 1.276, loss_g: 0.908\n",
      "[160/200]: loss_d: 1.271, loss_g: 0.905\n",
      "[161/200]: loss_d: 1.276, loss_g: 0.895\n",
      "[162/200]: loss_d: 1.282, loss_g: 0.883\n",
      "[163/200]: loss_d: 1.280, loss_g: 0.886\n",
      "[164/200]: loss_d: 1.278, loss_g: 0.895\n",
      "[165/200]: loss_d: 1.280, loss_g: 0.884\n",
      "[166/200]: loss_d: 1.285, loss_g: 0.885\n",
      "[167/200]: loss_d: 1.279, loss_g: 0.899\n",
      "[168/200]: loss_d: 1.277, loss_g: 0.887\n",
      "[169/200]: loss_d: 1.277, loss_g: 0.895\n",
      "[170/200]: loss_d: 1.278, loss_g: 0.898\n",
      "[171/200]: loss_d: 1.278, loss_g: 0.896\n",
      "[172/200]: loss_d: 1.278, loss_g: 0.898\n",
      "[173/200]: loss_d: 1.284, loss_g: 0.885\n",
      "[174/200]: loss_d: 1.279, loss_g: 0.886\n",
      "[175/200]: loss_d: 1.279, loss_g: 0.889\n",
      "[176/200]: loss_d: 1.286, loss_g: 0.882\n",
      "[177/200]: loss_d: 1.282, loss_g: 0.878\n",
      "[178/200]: loss_d: 1.281, loss_g: 0.890\n",
      "[179/200]: loss_d: 1.286, loss_g: 0.889\n",
      "[180/200]: loss_d: 1.284, loss_g: 0.886\n",
      "[181/200]: loss_d: 1.282, loss_g: 0.886\n",
      "[182/200]: loss_d: 1.284, loss_g: 0.888\n",
      "[183/200]: loss_d: 1.284, loss_g: 0.882\n",
      "[184/200]: loss_d: 1.285, loss_g: 0.888\n",
      "[185/200]: loss_d: 1.274, loss_g: 0.900\n",
      "[186/200]: loss_d: 1.282, loss_g: 0.883\n",
      "[187/200]: loss_d: 1.283, loss_g: 0.882\n",
      "[188/200]: loss_d: 1.284, loss_g: 0.880\n",
      "[189/200]: loss_d: 1.283, loss_g: 0.891\n",
      "[190/200]: loss_d: 1.286, loss_g: 0.878\n",
      "[191/200]: loss_d: 1.283, loss_g: 0.885\n",
      "[192/200]: loss_d: 1.284, loss_g: 0.878\n",
      "[193/200]: loss_d: 1.288, loss_g: 0.868\n",
      "[194/200]: loss_d: 1.276, loss_g: 0.902\n",
      "[195/200]: loss_d: 1.282, loss_g: 0.884\n",
      "[196/200]: loss_d: 1.276, loss_g: 0.887\n",
      "[197/200]: loss_d: 1.282, loss_g: 0.883\n",
      "[198/200]: loss_d: 1.282, loss_g: 0.887\n",
      "[199/200]: loss_d: 1.287, loss_g: 0.872\n",
      "[200/200]: loss_d: 1.279, loss_g: 0.889\n"
     ]
    }
   ],
   "source": [
    "n_epoch = 200\n",
    "for epoch in range(1, n_epoch+1):           \n",
    "    D_losses, G_losses = [], []\n",
    "    for batch_idx, (x, _) in enumerate(train_loader):\n",
    "        D_losses.append(D_train(x))\n",
    "        G_losses.append(G_train(x))\n",
    "\n",
    "    print('[%d/%d]: loss_d: %.3f, loss_g: %.3f' % (\n",
    "            (epoch), n_epoch, torch.mean(torch.FloatTensor(D_losses)), torch.mean(torch.FloatTensor(G_losses))))"
   ]
  },
  {
   "cell_type": "code",
   "execution_count": 19,
   "id": "c8572889",
   "metadata": {},
   "outputs": [],
   "source": [
    "with torch.no_grad():\n",
    "    test_z = Variable(torch.randn(bs, z_dim).to(device))\n",
    "    generated = G(test_z)\n",
    "\n",
    "    save_image(generated.view(generated.size(0), 1, 28, 28), '../MNIST GAN/samples/sample_' + '.png')\n"
   ]
  },
  {
   "cell_type": "code",
   "execution_count": null,
   "id": "6c05230d",
   "metadata": {},
   "outputs": [],
   "source": []
  }
 ],
 "metadata": {
  "kernelspec": {
   "display_name": "Python 3 (ipykernel)",
   "language": "python",
   "name": "python3"
  },
  "language_info": {
   "codemirror_mode": {
    "name": "ipython",
    "version": 3
   },
   "file_extension": ".py",
   "mimetype": "text/x-python",
   "name": "python",
   "nbconvert_exporter": "python",
   "pygments_lexer": "ipython3",
   "version": "3.11.5"
  }
 },
 "nbformat": 4,
 "nbformat_minor": 5
}
